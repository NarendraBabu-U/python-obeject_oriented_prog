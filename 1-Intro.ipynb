{
 "cells": [
  {
   "cell_type": "code",
   "execution_count": 9,
   "metadata": {},
   "outputs": [
    {
     "name": "stdout",
     "output_type": "stream",
     "text": [
      "<__main__.Employee instance at 0x7ff9780a1050>\n",
      "ram\n"
     ]
    }
   ],
   "source": [
    "#class\n",
    "class Employee:\n",
    "    pass\n",
    "\n",
    "emp1 = Employee()\n",
    "emp1.firstname = \"ram\"\n",
    "print emp1\n",
    "print emp1.firstname"
   ]
  },
  {
   "cell_type": "code",
   "execution_count": 16,
   "metadata": {},
   "outputs": [
    {
     "name": "stdout",
     "output_type": "stream",
     "text": [
      "narendrababu@domain.com\n"
     ]
    }
   ],
   "source": [
    "#attributes\n",
    "class Employee:\n",
    "    \n",
    "    def __init__(self,fname,lname,paygrade):\n",
    "        self.fname = fname\n",
    "        self.lname = lname\n",
    "        self.paygrade = paygrade\n",
    "        self.email = fname+lname+\"@domain.com\"\n",
    "        \n",
    "\n",
    "emp1 = Employee(\"narendra\",\"babu\",1)\n",
    "emp2 = Employee(\"narendra\",\"babu\",1)\n",
    "\n",
    "print emp1.email"
   ]
  },
  {
   "cell_type": "code",
   "execution_count": 27,
   "metadata": {},
   "outputs": [
    {
     "name": "stdout",
     "output_type": "stream",
     "text": [
      "narendra babu\n",
      "narendra babu\n",
      "narendra nath\n",
      "narendra nath\n",
      "<type 'int'> <type 'str'>\n"
     ]
    }
   ],
   "source": [
    "#methods\n",
    "\n",
    "class Employee:\n",
    "    \n",
    "    def __init__(self,fname,lname,paygrade):\n",
    "        self.fname = fname\n",
    "        self.lname = lname\n",
    "        self.paygrade = paygrade\n",
    "        self.email = fname+lname+\"@domain.com\"\n",
    "        \n",
    "    def whats_fname(self):\n",
    "        return self.fname+\" \"+self.lname\n",
    "        \n",
    "    \n",
    "emp1 = Employee(\"narendra\",\"babu\",1)\n",
    "emp2 = Employee(\"narendra\",\"nath\",\"abc\")\n",
    "\n",
    "print emp1.whats_fname()\n",
    "print Employee.whats_fname(emp1) #both are same.. above emp1 is sent as a parmeter..and recevied as self\n",
    "\n",
    "print emp2.whats_fname()\n",
    "print Employee.whats_fname(emp2) #both are same.. above emp1 is sent as a parmeter..and recevied as self\n",
    "\n",
    "print type(emp1.paygrade),type(emp2.paygrade)"
   ]
  }
 ],
 "metadata": {
  "kernelspec": {
   "display_name": "Python 2",
   "language": "python",
   "name": "python2"
  },
  "language_info": {
   "codemirror_mode": {
    "name": "ipython",
    "version": 2
   },
   "file_extension": ".py",
   "mimetype": "text/x-python",
   "name": "python",
   "nbconvert_exporter": "python",
   "pygments_lexer": "ipython2",
   "version": "2.7.15"
  }
 },
 "nbformat": 4,
 "nbformat_minor": 2
}
