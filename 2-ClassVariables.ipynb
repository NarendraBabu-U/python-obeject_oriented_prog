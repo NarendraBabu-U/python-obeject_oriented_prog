{
 "cells": [
  {
   "cell_type": "code",
   "execution_count": 6,
   "metadata": {},
   "outputs": [
    {
     "name": "stdout",
     "output_type": "stream",
     "text": [
      "100\n",
      "140.0\n",
      "200\n",
      "280.0\n",
      "{'lname': 'babu', 'pay': 140.0, 'email': 'narendrababu@domain.com', 'fname': 'narendra'}\n",
      "{'__module__': '__main__', 'raisepercent': 1.4, 'whats_fname': <function whats_fname at 0x7f921428b848>, 'give_raise': <function give_raise at 0x7f921428b938>, '__doc__': None, '__init__': <function __init__ at 0x7f921428b8c0>}\n",
      "----------------------\n",
      "140.0\n",
      "203.0\n",
      "{'lname': 'babu', 'pay': 203.0, 'email': 'narendrababu@domain.com', 'fname': 'narendra', 'raisepercent': 1.45}\n"
     ]
    }
   ],
   "source": [
    "#methods\n",
    "\n",
    "class Employee:\n",
    "    \n",
    "    raisepercent = 1.4 #class variable\n",
    "    \n",
    "    def __init__(self,fname,lname,pay):\n",
    "        self.fname = fname\n",
    "        self.lname = lname\n",
    "        self.pay = pay\n",
    "        self.email = fname+lname+\"@domain.com\"\n",
    "        \n",
    "    def whats_fname(self):\n",
    "        return self.fname+\" \"+self.lname\n",
    "    \n",
    "    def give_raise(self):\n",
    "        self.pay = self.pay*self.raisepercent \n",
    "        \n",
    "    \n",
    "emp1 = Employee(\"narendra\",\"babu\",100)\n",
    "emp2 = Employee(\"narendra\",\"nath\",200)\n",
    "\n",
    "print emp1.pay\n",
    "emp1.give_raise()\n",
    "print emp1.pay\n",
    "\n",
    "print emp2.pay\n",
    "Employee.give_raise(emp2)\n",
    "print emp2.pay\n",
    "\n",
    "print emp1.__dict__#doesn't show the class variable as an attribute\n",
    "\n",
    "print Employee.__dict__#does show the class variable as an attribute\n",
    "\n",
    "print \"----------------------\"\n",
    "emp1.raisepercent = 1.45\n",
    "print emp1.pay\n",
    "emp1.give_raise()\n",
    "print emp1.pay\n",
    "print emp1.__dict__#does show the class variable as an attribute"
   ]
  },
  {
   "cell_type": "code",
   "execution_count": 8,
   "metadata": {},
   "outputs": [
    {
     "name": "stdout",
     "output_type": "stream",
     "text": [
      "2\n",
      "2\n",
      "2\n"
     ]
    }
   ],
   "source": [
    "#methods\n",
    "\n",
    "class Employee:\n",
    "    \n",
    "    raisepercent = 1.4 #class variable\n",
    "    no_of_emps = 0\n",
    "    \n",
    "    def __init__(self,fname,lname,pay):\n",
    "        self.fname = fname\n",
    "        self.lname = lname\n",
    "        self.pay = pay\n",
    "        self.email = fname+lname+\"@domain.com\"\n",
    "        \n",
    "        Employee.no_of_emps +=1 # don't use self.no_of_emps, cause it only reflects for one instance\n",
    "        \n",
    "    def whats_fname(self):\n",
    "        return self.fname+\" \"+self.lname\n",
    "    \n",
    "    def give_raise(self):\n",
    "        self.pay = self.pay*self.raisepercent #can use self.raisepercent or Employee raisepercent unless it differs for each instance\n",
    "        \n",
    "    \n",
    "emp1 = Employee(\"narendra\",\"babu\",100)\n",
    "emp2 = Employee(\"narendra\",\"nath\",200)\n",
    "\n",
    "\n",
    "print emp1.no_of_emps\n",
    "print emp2.no_of_emps\n",
    "print Employee.no_of_emps"
   ]
  }
 ],
 "metadata": {
  "kernelspec": {
   "display_name": "Python 2",
   "language": "python",
   "name": "python2"
  },
  "language_info": {
   "codemirror_mode": {
    "name": "ipython",
    "version": 2
   },
   "file_extension": ".py",
   "mimetype": "text/x-python",
   "name": "python",
   "nbconvert_exporter": "python",
   "pygments_lexer": "ipython2",
   "version": "2.7.15"
  }
 },
 "nbformat": 4,
 "nbformat_minor": 2
}
