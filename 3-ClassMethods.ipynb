{
 "cells": [
  {
   "cell_type": "code",
   "execution_count": 16,
   "metadata": {},
   "outputs": [
    {
     "name": "stdout",
     "output_type": "stream",
     "text": [
      "narendra babu 100 narendrababu@domain.com\n",
      "nava krishna 200 navakrishna@domain.com\n",
      "Today Working Day? Yes!\n"
     ]
    }
   ],
   "source": [
    "# Class methods are also called alternative Constrctures\n",
    "# Static methods doesn't involve ant instance data.. so .. we don't use cls or self at all in their definitions\n",
    "\n",
    "\n",
    "class Employee:\n",
    "    \n",
    "    raisepercent = 1.4 #class variable\n",
    "    no_of_emps = 0\n",
    "    \n",
    "    def __init__(self,fname,lname,pay):\n",
    "        self.fname = fname\n",
    "        self.lname = lname\n",
    "        self.pay = pay\n",
    "        self.email = fname+lname+\"@domain.com\"\n",
    "        \n",
    "        Employee.no_of_emps +=1 # don't use self.no_of_emps, cause it only reflects for one instance\n",
    "        \n",
    "    def whats_fname(self):\n",
    "        return self.fname+\" \"+self.lname\n",
    "    \n",
    "    def give_raise(self):\n",
    "        self.pay = self.pay*self.raisepercent #can use self.raisepercent or Employee raisepercent unless it differs for each instance\n",
    "    \n",
    "    @classmethod\n",
    "    def getdata_fromstring(cls,string):#here cls is almost like self but for class\n",
    "        fname, lname, pay = string.split(\"-\")\n",
    "        return Employee(fname, lname, pay)\n",
    "    \n",
    "    @staticmethod\n",
    "    def is_workingday(date):\n",
    "        if date.weekday() == 5 or date.weekday() == 6:\n",
    "            return \"No!\"\n",
    "        else:\n",
    "            return \"Yes!\"\n",
    "\n",
    "emp1_str = \"narendra-babu-100\"\n",
    "emp2_str = \"nava-krishna-200\"\n",
    "\n",
    "emp1 = Employee.getdata_fromstring(emp1_str)\n",
    "emp2 = Employee.getdata_fromstring(emp2_str)\n",
    "\n",
    "print emp1.fname, emp1.lname, emp1.pay, emp1.email\n",
    "print emp2.fname, emp2.lname, emp2.pay, emp2.email\n",
    "\n",
    "import datetime\n",
    "print \"Today Working Day?\", Employee.is_workingday(datetime.datetime.now())\n"
   ]
  }
 ],
 "metadata": {
  "kernelspec": {
   "display_name": "Python 2",
   "language": "python",
   "name": "python2"
  },
  "language_info": {
   "codemirror_mode": {
    "name": "ipython",
    "version": 2
   },
   "file_extension": ".py",
   "mimetype": "text/x-python",
   "name": "python",
   "nbconvert_exporter": "python",
   "pygments_lexer": "ipython2",
   "version": "2.7.15"
  }
 },
 "nbformat": 4,
 "nbformat_minor": 2
}
