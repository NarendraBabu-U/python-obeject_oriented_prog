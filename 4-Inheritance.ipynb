{
 "cells": [
  {
   "cell_type": "code",
   "execution_count": 57,
   "metadata": {},
   "outputs": [
    {
     "name": "stdout",
     "output_type": "stream",
     "text": [
      "280.0 360.0\n",
      "devkumar@domain.com C++\n",
      "--> staff\n",
      "--> dev\n",
      "--> dev\n"
     ]
    }
   ],
   "source": [
    "class Employee:\n",
    "    \n",
    "    raisepercent = 1.4 #class variable\n",
    "    no_of_emps = 0\n",
    "    \n",
    "    def __init__(self,fname,lname,pay):\n",
    "        self.fname = fname\n",
    "        self.lname = lname\n",
    "        self.pay = pay\n",
    "        self.email = fname+lname+\"@domain.com\"\n",
    "        \n",
    "        Employee.no_of_emps +=1 \n",
    "        \n",
    "    def whats_fname(self):\n",
    "        return self.fname+\" \"+self.lname\n",
    "    \n",
    "    def give_raise(self):\n",
    "        self.pay = self.pay*self.raisepercent\n",
    "        \n",
    "class Developer(Employee): # specify which class you are extending\n",
    "    raisepercent = 1.8\n",
    "    def __init__(self,fname, lname, pay, expertise):\n",
    "        Employee.__init__(self,fname,lname,pay)#super() can also be used in other higher python versions\n",
    "        self.expertise = expertise\n",
    "        \n",
    "class Manager(Employee):\n",
    "    def __init__(self, fname,lname, pay, manages=None): #can't pass lists as parameters for some reason\n",
    "        Employee.__init__(self, fname, lname, pay)\n",
    "        if manages is None: # read above comment\n",
    "            self.manages = [] \n",
    "        else:\n",
    "            self.manages = manages     \n",
    "    \n",
    "    def add_emp(self,emp):\n",
    "        self.manages.append(emp)\n",
    "        \n",
    "    def remove_emp(self,emp):\n",
    "        self.manages.remove(emp)\n",
    "    \n",
    "    def print_allemps(self):\n",
    "        for i in self.manages:\n",
    "            print \"-->\",i.fname\n",
    "        \n",
    "    \n",
    "\n",
    "emp1 = Employee(\"staff\",\"rao\",200)\n",
    "dev1 = Developer(\"dev\",\"kumar\",200,\"C++\") #using child class to instanitate\n",
    "dev2 = Developer(\"ved\",\"sharma\",200,\"Python\")\n",
    "\n",
    "\n",
    "emp1.give_raise()#uses parent class raisepercent variable\n",
    "dev1.give_raise()#uses child class(sub class) raisepercent variable\n",
    "\n",
    "print emp1.pay,dev1.pay#both should be different\n",
    "\n",
    "print dev1.email,dev1.expertise\n",
    "\n",
    "mngr1 = Manager(\"man\",\"ager\",2,[emp1])\n",
    "\n",
    "mngr1.add_emp(dev1)\n",
    "mngr1.print_allemps()\n",
    "\n",
    "mngr1.remove_emp(emp1)\n",
    "mngr1.print_allemps()"
   ]
  },
  {
   "cell_type": "code",
   "execution_count": 60,
   "metadata": {},
   "outputs": [
    {
     "name": "stdout",
     "output_type": "stream",
     "text": [
      "True False False\n",
      "True True False\n",
      "True False True\n"
     ]
    }
   ],
   "source": [
    "print isinstance(emp1,Employee),isinstance(emp1,Developer),isinstance(emp1,Manager)\n",
    "print isinstance(dev1,Employee),isinstance(dev1,Developer),isinstance(dev1,Manager)\n",
    "print isinstance(mngr1,Employee),isinstance(mngr1,Developer),isinstance(mngr1,Manager)"
   ]
  },
  {
   "cell_type": "code",
   "execution_count": 62,
   "metadata": {},
   "outputs": [
    {
     "name": "stdout",
     "output_type": "stream",
     "text": [
      "True False\n"
     ]
    }
   ],
   "source": [
    "print issubclass(Developer,Employee),issubclass(Manager,Developer)"
   ]
  }
 ],
 "metadata": {
  "kernelspec": {
   "display_name": "Python 2",
   "language": "python",
   "name": "python2"
  },
  "language_info": {
   "codemirror_mode": {
    "name": "ipython",
    "version": 2
   },
   "file_extension": ".py",
   "mimetype": "text/x-python",
   "name": "python",
   "nbconvert_exporter": "python",
   "pygments_lexer": "ipython2",
   "version": "2.7.15"
  }
 },
 "nbformat": 4,
 "nbformat_minor": 2
}
