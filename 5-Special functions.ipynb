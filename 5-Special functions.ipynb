{
 "cells": [
  {
   "cell_type": "code",
   "execution_count": 2,
   "metadata": {},
   "outputs": [
    {
     "name": "stdout",
     "output_type": "stream",
     "text": [
      "Employee : narendra,babu,100\n"
     ]
    }
   ],
   "source": [
    "#repr\n",
    "\n",
    "class Employee:\n",
    "    \n",
    "    raisepercent = 1.4 #class variable\n",
    "    \n",
    "    def __init__(self,fname,lname,pay):\n",
    "        self.fname = fname\n",
    "        self.lname = lname\n",
    "        self.pay = pay\n",
    "        self.email = fname+lname+\"@domain.com\"\n",
    "        \n",
    "    def __repr__(self):\n",
    "        return \"Employee : {},{},{}\".format(self.fname,self.lname,self.pay)\n",
    "        \n",
    "    \n",
    "        \n",
    "    \n",
    "emp1 = Employee(\"narendra\",\"babu\",100)\n",
    "emp2 = Employee(\"narendra\",\"nath\",200)\n",
    "\n",
    "print emp1"
   ]
  },
  {
   "cell_type": "code",
   "execution_count": 5,
   "metadata": {},
   "outputs": [
    {
     "name": "stdout",
     "output_type": "stream",
     "text": [
      "Employee Details: narendra,babu,100\n",
      "Employee : narendra,babu,100\n",
      "Employee Details: narendra,nath,200\n"
     ]
    }
   ],
   "source": [
    "#str\n",
    "\n",
    "class Employee:\n",
    "    \n",
    "    raisepercent = 1.4 #class variable\n",
    "    \n",
    "    def __init__(self,fname,lname,pay):\n",
    "        self.fname = fname\n",
    "        self.lname = lname\n",
    "        self.pay = pay\n",
    "        self.email = fname+lname+\"@domain.com\"\n",
    "        \n",
    "    def __repr__(self):#meant to be for developer\n",
    "        return \"Employee : {},{},{}\".format(self.fname,self.lname,self.pay)\n",
    "\n",
    "    def __str__(self):#over writes repr, meant to be for user\n",
    "        return \"Employee Details: {},{},{}\".format(self.fname,self.lname,self.pay)\n",
    "           \n",
    "    \n",
    "emp1 = Employee(\"narendra\",\"babu\",100)\n",
    "emp2 = Employee(\"narendra\",\"nath\",200)\n",
    "\n",
    "print emp1\n",
    "\n",
    "print emp1.__repr__()\n",
    "print emp2.__str__()"
   ]
  },
  {
   "cell_type": "code",
   "execution_count": 16,
   "metadata": {},
   "outputs": [
    {
     "name": "stdout",
     "output_type": "stream",
     "text": [
      "Employee : narendranarendra,babunath,300\n",
      "Employee : virat,kohli,0\n",
      "Employee : anushka,kohli,200\n"
     ]
    }
   ],
   "source": [
    "#functions interacting with other objects\n",
    "\n",
    "class Employee:\n",
    "    \n",
    "    raisepercent = 1.4 #class variable\n",
    "    \n",
    "    def __init__(self,fname,lname,pay):\n",
    "        self.fname = fname\n",
    "        self.lname = lname\n",
    "        self.pay = pay\n",
    "        self.email = fname+lname+\"@domain.com\"\n",
    "        \n",
    "    def __repr__(self):#meant to be for developer\n",
    "        return \"Employee : {},{},{}\".format(self.fname,self.lname,self.pay)\n",
    "    \n",
    "    def __add__(one,two):\n",
    "        new = Employee(one.fname+two.fname,one.lname+two.lname,one.pay+two.pay)\n",
    "        return new\n",
    "    \n",
    "    def marry(self,other):\n",
    "        other.lname = self.lname\n",
    "        other.pay = other.pay+self.pay\n",
    "        self.pay = 0\n",
    "        print v\n",
    "        print a\n",
    "    \n",
    "emp1 = Employee(\"narendra\",\"babu\",100)\n",
    "emp2 = Employee(\"narendra\",\"nath\",200)\n",
    "\n",
    "superemp1 = emp1+emp2 #here adding operation creates a new employee object\n",
    "print superemp1\n",
    "\n",
    "v = Employee(\"virat\",\"kohli\",100)\n",
    "a = Employee(\"anushka\",\"sharma\",100)\n",
    "\n",
    "v.marry(a)"
   ]
  },
  {
   "cell_type": "code",
   "execution_count": 18,
   "metadata": {},
   "outputs": [
    {
     "name": "stdout",
     "output_type": "stream",
     "text": [
      "narendra\n"
     ]
    },
    {
     "ename": "NameError",
     "evalue": "name 'emp2' is not defined",
     "output_type": "error",
     "traceback": [
      "\u001b[0;31m---------------------------------------------------------------------------\u001b[0m",
      "\u001b[0;31mNameError\u001b[0m                                 Traceback (most recent call last)",
      "\u001b[0;32m<ipython-input-18-1b78618d66db>\u001b[0m in \u001b[0;36m<module>\u001b[0;34m()\u001b[0m\n\u001b[1;32m     31\u001b[0m \u001b[0;34m\u001b[0m\u001b[0m\n\u001b[1;32m     32\u001b[0m \u001b[0;32mprint\u001b[0m \u001b[0memp1\u001b[0m\u001b[0;34m.\u001b[0m\u001b[0mfname\u001b[0m\u001b[0;34m\u001b[0m\u001b[0m\n\u001b[0;32m---> 33\u001b[0;31m \u001b[0;32mprint\u001b[0m \u001b[0memp2\u001b[0m\u001b[0;34m.\u001b[0m\u001b[0mfname\u001b[0m\u001b[0;34m\u001b[0m\u001b[0m\n\u001b[0m",
      "\u001b[0;31mNameError\u001b[0m: name 'emp2' is not defined"
     ]
    }
   ],
   "source": [
    "#deleting objects\n",
    "\n",
    "class Employee:\n",
    "    \n",
    "    raisepercent = 1.4 #class variable\n",
    "    \n",
    "    def __init__(self,fname,lname,pay):\n",
    "        self.fname = fname\n",
    "        self.lname = lname\n",
    "        self.pay = pay\n",
    "        self.email = fname+lname+\"@domain.com\"\n",
    "        \n",
    "    def __repr__(self):#meant to be for developer\n",
    "        return \"Employee : {},{},{}\".format(self.fname,self.lname,self.pay)\n",
    "    \n",
    "    def __add__(one,two):\n",
    "        new = Employee(one.fname+two.fname,one.lname+two.lname,one.pay+two.pay)\n",
    "        return new\n",
    "    \n",
    "    def marry(self,other):\n",
    "        other.lname = self.lname\n",
    "        other.pay = other.pay+self.pay\n",
    "        self.pay = 0\n",
    "        print v\n",
    "        print a\n",
    "    \n",
    "emp1 = Employee(\"narendra\",\"babu\",100)\n",
    "emp2 = Employee(\"narendra\",\"nath\",200)\n",
    "\n",
    "del emp2\n",
    "\n",
    "print emp1.fname\n",
    "print emp2.fname"
   ]
  }
 ],
 "metadata": {
  "kernelspec": {
   "display_name": "Python 2",
   "language": "python",
   "name": "python2"
  },
  "language_info": {
   "codemirror_mode": {
    "name": "ipython",
    "version": 2
   },
   "file_extension": ".py",
   "mimetype": "text/x-python",
   "name": "python",
   "nbconvert_exporter": "python",
   "pygments_lexer": "ipython2",
   "version": "2.7.15"
  }
 },
 "nbformat": 4,
 "nbformat_minor": 2
}
